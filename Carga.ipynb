{
  "nbformat": 4,
  "nbformat_minor": 0,
  "metadata": {
    "colab": {
      "provenance": [],
      "authorship_tag": "ABX9TyOFhot7az5kXoxDGD18Sx3G",
      "include_colab_link": true
    },
    "kernelspec": {
      "name": "python3",
      "display_name": "Python 3"
    },
    "language_info": {
      "name": "python"
    }
  },
  "cells": [
    {
      "cell_type": "markdown",
      "metadata": {
        "id": "view-in-github",
        "colab_type": "text"
      },
      "source": [
        "<a href=\"https://colab.research.google.com/github/asegura4488/PruebaColab/blob/main/Carga.ipynb\" target=\"_parent\"><img src=\"https://colab.research.google.com/assets/colab-badge.svg\" alt=\"Open In Colab\"/></a>"
      ]
    },
    {
      "cell_type": "code",
      "execution_count": null,
      "metadata": {
        "id": "nRM9b-6n4lUp"
      },
      "outputs": [],
      "source": [
        "import numpy as np\n",
        "import matplotlib.pyplot as plt"
      ]
    },
    {
      "cell_type": "code",
      "source": [
        "a = np.random.normal(0,1,size=100)\n",
        "b = np.random.uniform(-1,1,size=100)"
      ],
      "metadata": {
        "id": "8-WwD2TV4pIX"
      },
      "execution_count": 5,
      "outputs": []
    },
    {
      "cell_type": "code",
      "source": [
        "fig, ax = plt.subplots(figsize=(5,5))\n",
        "ax.hist(a,histtype='step',bins=10,label='Working progress',lw=2,color='k')\n",
        "\n",
        "Newaxis = fig.add_axes([0.6,0.5,0.25,0.25],anchor='NE',zorder=3)\n",
        "Newaxis.hist( b , histtype='step', bins=10, label='Past work', lw=2, color='b')\n",
        "\n",
        "Newaxis.set_xlabel(r'$r$',fontsize=10)\n",
        "Newaxis.set_ylabel(r'$f(r)$',fontsize=10)\n",
        "\n",
        "plt.show()"
      ],
      "metadata": {
        "colab": {
          "base_uri": "https://localhost:8080/",
          "height": 445
        },
        "id": "e2noJUEe7LNJ",
        "outputId": "628f4419-2aae-4841-ef5f-f120a0d432da"
      },
      "execution_count": 14,
      "outputs": [
        {
          "output_type": "display_data",
          "data": {
            "text/plain": [
              "<Figure size 500x500 with 2 Axes>"
            ],
            "image/png": "[encoded data removed]"
          },
          "metadata": {}
        }
      ]
    },
    {
      "cell_type": "code",
      "source": [],
      "metadata": {
        "id": "G7Pse_v37MAx"
      },
      "execution_count": null,
      "outputs": []
    }
  ]
}